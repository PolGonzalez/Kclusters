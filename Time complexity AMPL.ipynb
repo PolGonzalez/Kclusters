{
 "cells": [
  {
   "cell_type": "code",
   "execution_count": 14,
   "metadata": {},
   "outputs": [],
   "source": [
    "import numpy as np\n",
    "import math\n",
    "import matplotlib.pyplot as plt\n",
    "import matplotlib as mpl\n",
    "import pandas as pd\n",
    "import scipy \n",
    "from sklearn.cluster import KMeans\n",
    "from scipy.sparse.csgraph import minimum_spanning_tree\n",
    "from scipy.sparse import csr_matrix\n",
    "from io import StringIO\n",
    "from sklearn.datasets import make_blobs\n"
   ]
  },
  {
   "cell_type": "code",
   "execution_count": 15,
   "metadata": {},
   "outputs": [
    {
     "name": "stdout",
     "output_type": "stream",
     "text": [
      "[[ -8.99293921  -4.79926944]\n",
      " [  2.06573738  -0.8774893 ]\n",
      " [  2.29241357   0.48729097]\n",
      " [ -4.05669704   1.4777923 ]\n",
      " [ -4.2286939   -0.52110498]\n",
      " [ -5.85401078   0.35641803]\n",
      " [ -8.09421585  -5.77492739]\n",
      " [ -4.30771374  -0.25972682]\n",
      " [  2.52344317  -0.36083066]\n",
      " [ -8.44047233  -5.18709244]\n",
      " [  1.83905461  -0.3481206 ]\n",
      " [  1.91803263   0.46755516]\n",
      " [ -3.772735    -1.01827296]\n",
      " [ -8.52689514  -3.7610477 ]\n",
      " [-10.15025754  -4.16585823]]\n",
      "[0 2 2 1 1 1 0 1 2 0 2 2 1 0 0]\n"
     ]
    }
   ],
   "source": [
    "# generate data\n",
    "n_samples = 15\n",
    "random_state = 170\n",
    "X, y = make_blobs(n_samples=n_samples, random_state=random_state)\n",
    "print(X)\n"
   ]
  },
  {
   "cell_type": "code",
   "execution_count": null,
   "metadata": {},
   "outputs": [],
   "source": []
  }
 ],
 "metadata": {
  "kernelspec": {
   "display_name": "Python 3",
   "language": "python",
   "name": "python3"
  },
  "language_info": {
   "codemirror_mode": {
    "name": "ipython",
    "version": 3
   },
   "file_extension": ".py",
   "mimetype": "text/x-python",
   "name": "python",
   "nbconvert_exporter": "python",
   "pygments_lexer": "ipython3",
   "version": "3.8.3"
  }
 },
 "nbformat": 4,
 "nbformat_minor": 4
}
