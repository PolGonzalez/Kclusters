{
 "cells": [
  {
   "cell_type": "code",
   "execution_count": 1,
   "metadata": {},
   "outputs": [],
   "source": [
    "import numpy as np\n",
    "import math\n",
    "import matplotlib.pyplot as plt\n",
    "import matplotlib as mpl\n",
    "import pandas as pd\n",
    "import scipy \n",
    "from sklearn.cluster import KMeans\n",
    "from scipy.sparse.csgraph import minimum_spanning_tree\n",
    "from scipy.sparse import csr_matrix\n",
    "from io import StringIO\n",
    "from sklearn.datasets import make_blobs\n"
   ]
  },
  {
   "cell_type": "code",
   "execution_count": 2,
   "metadata": {},
   "outputs": [],
   "source": [
    "k = 3\n",
    "for i in range(10):\n",
    "    \n",
    "    # generate data\n",
    "    m = 15*(i+1)\n",
    "    random_state = 170\n",
    "    points, y = make_blobs(n_samples=m,centers = k, random_state=random_state)\n",
    "    \n",
    "    #generate matrix distance\n",
    "    dist = [[math.sqrt((i[0]-j[0])**2+(i[1]-j[1])**2) for i in points] for j in points]\n",
    "    \n",
    "    #We write the generated data in a .dat AMPL format.\n",
    "    output = open(\"Kcluster\"+str(i)+\".dat\", \"w\")\n",
    "    output.write('param k:= '+ str(k) + ';')\n",
    "    output.write('\\n')\n",
    "    output.write('param m:= '+ str(m) + ';')\n",
    "    output.write('\\n')\n",
    "    output.write('param d: ')\n",
    "    for i in range(m):output.write(str(i + 1) + ' ')\n",
    "    output.write(':=')\n",
    "    output.write('\\n')\n",
    "    for i in range(m):\n",
    "        output.write(str(i + 1) + ' ')\n",
    "        for j in range(m):\n",
    "            output.write(str(dist[i][j]))\n",
    "            if(j != m-1):output.write(' ')\n",
    "        if(i != m-1):output.write('\\n')\n",
    "    output.write(';')\n",
    "    output.write('\\n')\n",
    "    output.close()\n"
   ]
  },
  {
   "cell_type": "code",
   "execution_count": 19,
   "metadata": {},
   "outputs": [
    {
     "data": {
      "text/plain": [
       "0"
      ]
     },
     "execution_count": 19,
     "metadata": {},
     "output_type": "execute_result"
    }
   ],
   "source": []
  }
 ],
 "metadata": {
  "kernelspec": {
   "display_name": "Python 3",
   "language": "python",
   "name": "python3"
  },
  "language_info": {
   "codemirror_mode": {
    "name": "ipython",
    "version": 3
   },
   "file_extension": ".py",
   "mimetype": "text/x-python",
   "name": "python",
   "nbconvert_exporter": "python",
   "pygments_lexer": "ipython3",
   "version": "3.8.8"
  }
 },
 "nbformat": 4,
 "nbformat_minor": 4
}
