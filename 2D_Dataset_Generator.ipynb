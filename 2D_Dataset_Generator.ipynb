{
 "cells": [
  {
   "cell_type": "code",
   "execution_count": 1,
   "id": "d2625a1d",
   "metadata": {},
   "outputs": [
    {
     "ename": "ModuleNotFoundError",
     "evalue": "No module named 'mst_clustering'",
     "output_type": "error",
     "traceback": [
      "\u001b[1;31m---------------------------------------------------------------------------\u001b[0m",
      "\u001b[1;31mModuleNotFoundError\u001b[0m                       Traceback (most recent call last)",
      "\u001b[1;32m<ipython-input-1-8f7cae876271>\u001b[0m in \u001b[0;36m<module>\u001b[1;34m\u001b[0m\n\u001b[0;32m     10\u001b[0m \u001b[1;32mfrom\u001b[0m \u001b[0mscipy\u001b[0m\u001b[1;33m.\u001b[0m\u001b[0msparse\u001b[0m \u001b[1;32mimport\u001b[0m \u001b[0mcsr_matrix\u001b[0m\u001b[1;33m\u001b[0m\u001b[1;33m\u001b[0m\u001b[0m\n\u001b[0;32m     11\u001b[0m \u001b[1;32mfrom\u001b[0m \u001b[0mio\u001b[0m \u001b[1;32mimport\u001b[0m \u001b[0mStringIO\u001b[0m\u001b[1;33m\u001b[0m\u001b[1;33m\u001b[0m\u001b[0m\n\u001b[1;32m---> 12\u001b[1;33m \u001b[1;32mfrom\u001b[0m \u001b[0mmst_clustering\u001b[0m \u001b[1;32mimport\u001b[0m \u001b[0mMSTClustering\u001b[0m\u001b[1;33m\u001b[0m\u001b[1;33m\u001b[0m\u001b[0m\n\u001b[0m",
      "\u001b[1;31mModuleNotFoundError\u001b[0m: No module named 'mst_clustering'"
     ]
    }
   ],
   "source": [
    "import numpy as np\n",
    "import math\n",
    "import matplotlib.pyplot as plt\n",
    "import matplotlib as mpl\n",
    "import pandas as pd\n",
    "import scipy\n",
    "from sklearn.datasets import make_blobs\n",
    "from sklearn.cluster import KMeans\n",
    "from scipy.sparse.csgraph import minimum_spanning_tree\n",
    "from scipy.sparse import csr_matrix\n",
    "from io import StringIO\n",
    "from mst_clustering import MSTClustering\n"
   ]
  },
  {
   "cell_type": "code",
   "execution_count": null,
   "id": "3ea195f5",
   "metadata": {},
   "outputs": [],
   "source": [
    "#paremeter selection\n",
    "\n",
    "k = 3\n",
    "m = 300\n"
   ]
  },
  {
   "cell_type": "code",
   "execution_count": null,
   "id": "44fda73a",
   "metadata": {},
   "outputs": [],
   "source": [
    "#generating points\n",
    "random_state = 42\n",
    "points, y = make_blobs(n_samples=m,centers = k, random_state=random_state)\n",
    "\n"
   ]
  },
  {
   "cell_type": "code",
   "execution_count": null,
   "id": "c79df6a0",
   "metadata": {},
   "outputs": [],
   "source": [
    "#Kmeans solution\n",
    "random_state = 170\n",
    "y_pred = KMeans(n_clusters=k, random_state=random_state).fit_predict(points)\n",
    "\n",
    "\n",
    "#print clusters\n",
    "plt.figure(figsize=(8, 8))\n",
    "\n",
    "\n",
    "plt.scatter(points[:, 0], points[:, 1], c=y_pred,cmap='rainbow')\n",
    "plt.title(\"K means solution\")"
   ]
  },
  {
   "cell_type": "code",
   "execution_count": 7,
   "id": "fc30a9ca",
   "metadata": {},
   "outputs": [
    {
     "data": {
      "image/png": "[encoded data removed]",
      "text/plain": [
       "<Figure size 432x288 with 1 Axes>"
      ]
     },
     "metadata": {
      "needs_background": "light"
     },
     "output_type": "display_data"
    }
   ],
   "source": [
    "#MST solution\n",
    "model = MSTClustering(cutoff=k-1)\n",
    "y_pred_mst = model.fit_predict(points)\n",
    "\n",
    "#print clusters\n",
    "plt.scatter(points[:, 0], points[:, 1], c=y_pred_mst, cmap='rainbow');"
   ]
  },
  {
   "cell_type": "code",
   "execution_count": 8,
   "id": "137a694f",
   "metadata": {},
   "outputs": [],
   "source": [
    "\n",
    "#generate matrix distance\n",
    "dist = [[math.sqrt((i[0]-j[0])**2+(i[1]-j[1])**2) for i in points] for j in points]\n",
    "#We write the generated data in a .dat AMPL format.\n",
    "output = open(\"Kcluster.dat\", \"w\")\n",
    "output.write('param k:= '+ str(k) + ';')\n",
    "output.write('\\n')\n",
    "output.write('param m:= '+ str(m) + ';')\n",
    "output.write('\\n')\n",
    "output.write('param d: ')\n",
    "for i in range(m):output.write(str(i + 1) + ' ')\n",
    "output.write(':=')\n",
    "output.write('\\n')\n",
    "for i in range(m):\n",
    "    output.write(str(i + 1) + ' ')\n",
    "    for j in range(m):\n",
    "        output.write(str(dist[i][j]))\n",
    "        if(j != m-1):output.write(' ')\n",
    "    if(i != m-1):output.write('\\n')\n",
    "output.write(';')\n",
    "output.write('\\n')\n",
    "output.close()\n"
   ]
  },
  {
   "cell_type": "code",
   "execution_count": null,
   "id": "bb885337",
   "metadata": {},
   "outputs": [],
   "source": [
    "###AQUI VA LEXECUCIO DEL AMPL DINTRE DEL JUPYTER"
   ]
  },
  {
   "cell_type": "code",
   "execution_count": null,
   "id": "8b64500c",
   "metadata": {},
   "outputs": [],
   "source": [
    "#AMPL solution processing\n",
    "\n",
    "solution_input = open(\"solution_matrix.txt\", \"r\")\n",
    "sol = [0 for _ in range(m)]\n",
    "clusters = []\n",
    "for i,line in enumerate(solution_input.readlines()):\n",
    "    if i > 1 and i < m + 3:\n",
    "        for j,car in enumerate(line.split()):\n",
    "            if j > 0 and car == \"1\":\n",
    "                if not (j - 1) in clusters: clusters.append(j - 1)\n",
    "                sol[i - 2] = clusters.index(j - 1)\n",
    "                \n",
    "plt.scatter(points[:, 0], points[:, 1], c=sol)\n",
    "plt.title(\"LP solution\")"
   ]
  },
  {
   "cell_type": "code",
   "execution_count": null,
   "id": "cfe1e1f0",
   "metadata": {},
   "outputs": [],
   "source": []
  },
  {
   "cell_type": "code",
   "execution_count": 9,
   "id": "e683e16a",
   "metadata": {},
   "outputs": [
    {
     "name": "stderr",
     "output_type": "stream",
     "text": [
      "C:\\Users\\moler\\anaconda3\\lib\\site-packages\\sklearn\\cluster\\_kmeans.py:1416: FutureWarning: The default value of `n_init` will change from 10 to 'auto' in 1.4. Set the value of `n_init` explicitly to suppress the warning\n",
      "  super()._check_params_vs_input(X, default_n_init=10)\n",
      "C:\\Users\\moler\\anaconda3\\lib\\site-packages\\sklearn\\cluster\\_kmeans.py:1440: UserWarning: KMeans is known to have a memory leak on Windows with MKL, when there are less chunks than available threads. You can avoid it by setting the environment variable OMP_NUM_THREADS=8.\n",
      "  warnings.warn(\n"
     ]
    }
   ],
   "source": [
    "#Multidimensional dataset kmeans implementation\n",
    "df = pd.read_csv('segmentation-data.csv')\n",
    "kmeans = KMeans(n_clusters=3, init='k-means++', random_state= 42)  \n",
    "y_predict= kmeans.fit_predict(df)\n",
    "\n"
   ]
  },
  {
   "cell_type": "code",
   "execution_count": null,
   "id": "260ff8dd",
   "metadata": {},
   "outputs": [],
   "source": []
  },
  {
   "cell_type": "code",
   "execution_count": null,
   "id": "6f76de38",
   "metadata": {},
   "outputs": [],
   "source": []
  }
 ],
 "metadata": {
  "kernelspec": {
   "display_name": "Python 3",
   "language": "python",
   "name": "python3"
  },
  "language_info": {
   "codemirror_mode": {
    "name": "ipython",
    "version": 3
   },
   "file_extension": ".py",
   "mimetype": "text/x-python",
   "name": "python",
   "nbconvert_exporter": "python",
   "pygments_lexer": "ipython3",
   "version": "3.8.8"
  }
 },
 "nbformat": 4,
 "nbformat_minor": 5
}
