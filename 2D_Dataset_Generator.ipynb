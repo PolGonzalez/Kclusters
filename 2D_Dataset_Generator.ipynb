{
 "cells": [
  {
   "cell_type": "code",
   "execution_count": 65,
   "id": "e8352519",
   "metadata": {},
   "outputs": [],
   "source": [
    "import numpy as np\n",
    "import math"
   ]
  },
  {
   "cell_type": "code",
   "execution_count": 66,
   "id": "665ca56e",
   "metadata": {},
   "outputs": [],
   "source": [
    "k = 3\n",
    "m = 40"
   ]
  },
  {
   "cell_type": "code",
   "execution_count": 67,
   "id": "0916a667",
   "metadata": {},
   "outputs": [],
   "source": [
    "#generate m random points in the square [0,1]*[0,1]\n",
    "points = np.random.rand(m,2)\n",
    "#generate matrix distance\n",
    "dist = [[math.sqrt((i[0]-j[0])**2+(i[1]-j[1])**2) for i in points] for j in points]\n",
    "\n",
    "        "
   ]
  },
  {
   "cell_type": "code",
   "execution_count": 68,
   "id": "458a155c",
   "metadata": {},
   "outputs": [],
   "source": [
    "output = open(\"Kcluster.dat\", \"w\")\n",
    "output.write('param k:= '+ str(k) + ';')\n",
    "output.write('\\n')\n",
    "output.write('param m:= '+ str(m) + ';')\n",
    "output.write('\\n')\n",
    "output.write('param d: ')\n",
    "for i in range(m):output.write(str(i + 1) + ' ')\n",
    "output.write(':=')\n",
    "output.write('\\n')\n",
    "for i in range(m):\n",
    "    output.write(str(i + 1) + ' ')\n",
    "    for j in range(m):\n",
    "        output.write(str(dist[i][j]))\n",
    "        if(j != m-1):output.write(' ')\n",
    "    if(i != m-1):output.write('\\n')\n",
    "output.write(';')\n",
    "output.write('\\n')\n",
    "output.close()"
   ]
  }
 ],
 "metadata": {
  "kernelspec": {
   "display_name": "Python 3",
   "language": "python",
   "name": "python3"
  },
  "language_info": {
   "codemirror_mode": {
    "name": "ipython",
    "version": 3
   },
   "file_extension": ".py",
   "mimetype": "text/x-python",
   "name": "python",
   "nbconvert_exporter": "python",
   "pygments_lexer": "ipython3",
   "version": "3.8.8"
  }
 },
 "nbformat": 4,
 "nbformat_minor": 5
}
